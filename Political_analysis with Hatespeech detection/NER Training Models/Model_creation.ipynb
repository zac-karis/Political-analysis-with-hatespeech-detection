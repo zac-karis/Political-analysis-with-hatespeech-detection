{
 "cells": [
  {
   "cell_type": "markdown",
   "id": "b5c29233",
   "metadata": {},
   "source": [
    "# Create a model that will get the names and political parties using Machine learning"
   ]
  },
  {
   "cell_type": "markdown",
   "id": "b2ef3b71",
   "metadata": {},
   "source": [
    "## Library and data imports"
   ]
  },
  {
   "cell_type": "code",
   "execution_count": 1,
   "id": "7f30a688",
   "metadata": {},
   "outputs": [],
   "source": [
    "import spacy\n",
    "import json\n",
    "import random\n",
    "from spacy.training.example import Example"
   ]
  },
  {
   "cell_type": "code",
   "execution_count": 2,
   "id": "4557570a",
   "metadata": {},
   "outputs": [],
   "source": [
    "def load_data(file):\n",
    "    with open(file, \"r\", encoding=\"utf-8\") as f:\n",
    "        data = json.load(f)\n",
    "        \n",
    "    return data"
   ]
  },
  {
   "cell_type": "code",
   "execution_count": 3,
   "id": "99a874ca",
   "metadata": {},
   "outputs": [],
   "source": [
    "def save_data(file, data):\n",
    "    with open(file, \"w\", encoding=\"utf-8\") as f:\n",
    "        json.dump(data, f, indent = 4)"
   ]
  },
  {
   "cell_type": "code",
   "execution_count": 7,
   "id": "0d750648",
   "metadata": {},
   "outputs": [],
   "source": [
    "TRAIN_DATA = load_data(\"data/political_training_data.json\")"
   ]
  },
  {
   "cell_type": "markdown",
   "id": "6a1f4953",
   "metadata": {},
   "source": [
    "## Model Training"
   ]
  },
  {
   "cell_type": "code",
   "execution_count": 5,
   "id": "64d5ab8c",
   "metadata": {},
   "outputs": [],
   "source": [
    "def train_spacy(data, iterations):\n",
    "    TRAIN_DATA = data\n",
    "    nlp = spacy.blank(\"en\")\n",
    "    \n",
    "    if \"ner\" not in nlp.pipe_names:\n",
    "        nlp.add_pipe(\"ner\", last=True)\n",
    "        ner =nlp.get_pipe(\"ner\")\n",
    "        \n",
    "    # add labels into the model\n",
    "    for _, annotations in TRAIN_DATA:\n",
    "        for ent in annotations.get(\"entities\"):\n",
    "            ner.add_label(ent[2])\n",
    "            \n",
    "    #deactivate all other pipes\n",
    "    other_pipes = [pipe for pipe in nlp.pipe_names if pipe != \"ner\"]\n",
    "    with nlp.disable_pipes(*other_pipes):\n",
    "        optimizer = nlp.begin_training()\n",
    "        \n",
    "        #iterate training process\n",
    "        for itn in range(iterations):\n",
    "            print(\"Starting iteration \" +str(itn))\n",
    "            random.shuffle(TRAIN_DATA)\n",
    "            losses = {}\n",
    "            \n",
    "            for text, annotations in TRAIN_DATA:\n",
    "                doc=nlp.make_doc(text)\n",
    "                example = Example.from_dict(doc, annotations)\n",
    "                nlp.update(\n",
    "                    [example],\n",
    "                    drop=0.2,\n",
    "                    sgd =optimizer,\n",
    "                    losses=losses\n",
    "                )\n",
    "                print(losses)\n",
    "            \n",
    "    return (nlp)"
   ]
  },
  {
   "cell_type": "code",
   "execution_count": 9,
   "id": "beb6c508",
   "metadata": {},
   "outputs": [
    {
     "name": "stdout",
     "output_type": "stream",
     "text": [
      "Starting iteration 0\n",
      "{'ner': 855.1705154119645}\n",
      "Starting iteration 1\n",
      "{'ner': 285.5568032572871}\n",
      "Starting iteration 2\n",
      "{'ner': 195.22609341340802}\n",
      "Starting iteration 3\n",
      "{'ner': 153.4458233149475}\n",
      "Starting iteration 4\n",
      "{'ner': 117.24101123519048}\n",
      "Starting iteration 5\n",
      "{'ner': 95.64985042916463}\n",
      "Starting iteration 6\n",
      "{'ner': 73.59693354773833}\n",
      "Starting iteration 7\n",
      "{'ner': 73.87732284541163}\n",
      "Starting iteration 8\n",
      "{'ner': 91.8834652915355}\n",
      "Starting iteration 9\n",
      "{'ner': 58.89872064932659}\n",
      "Starting iteration 10\n",
      "{'ner': 53.42263842428859}\n",
      "Starting iteration 11\n",
      "{'ner': 36.071037430657185}\n",
      "Starting iteration 12\n",
      "{'ner': 69.4704300019846}\n",
      "Starting iteration 13\n",
      "{'ner': 62.06814824459397}\n",
      "Starting iteration 14\n",
      "{'ner': 31.50419510699183}\n",
      "Starting iteration 15\n",
      "{'ner': 47.610254634183214}\n",
      "Starting iteration 16\n",
      "{'ner': 46.03422127012681}\n",
      "Starting iteration 17\n",
      "{'ner': 31.637988605447045}\n",
      "Starting iteration 18\n",
      "{'ner': 30.36392552286308}\n",
      "Starting iteration 19\n",
      "{'ner': 55.88537462413585}\n",
      "Starting iteration 20\n",
      "{'ner': 42.18061631644389}\n",
      "Starting iteration 21\n",
      "{'ner': 38.60775371642323}\n",
      "Starting iteration 22\n",
      "{'ner': 28.66603419406031}\n",
      "Starting iteration 23\n",
      "{'ner': 51.28570003099638}\n",
      "Starting iteration 24\n",
      "{'ner': 30.50150557001466}\n",
      "Starting iteration 25\n",
      "{'ner': 23.53200741854734}\n",
      "Starting iteration 26\n",
      "{'ner': 51.69613873611815}\n",
      "Starting iteration 27\n",
      "{'ner': 44.05128329065356}\n",
      "Starting iteration 28\n",
      "{'ner': 34.63698125205732}\n",
      "Starting iteration 29\n",
      "{'ner': 25.368449487170327}\n",
      "--- 1384.7403936386108 seconds ---\n"
     ]
    }
   ],
   "source": [
    "import time\n",
    "start_time = time.time()\n",
    "nlp = train_spacy(TRAIN_DATA, 30)\n",
    "nlp.to_disk(\"political_ner_model\")\n",
    "print(\"--- %s seconds ---\" % (time.time() - start_time))"
   ]
  },
  {
   "cell_type": "code",
   "execution_count": 12,
   "id": "7613474c",
   "metadata": {},
   "outputs": [],
   "source": [
    "text = \"I will not vote for Raila\""
   ]
  },
  {
   "cell_type": "code",
   "execution_count": 13,
   "id": "3dcd087c",
   "metadata": {},
   "outputs": [
    {
     "name": "stdout",
     "output_type": "stream",
     "text": [
      "Raila POLITICIAN\n"
     ]
    }
   ],
   "source": [
    "nlp = spacy.load(\"political_ner_model\")\n",
    "doc = nlp(text)\n",
    "\n",
    "for ent in doc.ents:\n",
    "    print(ent.text, ent.label_)"
   ]
  },
  {
   "cell_type": "code",
   "execution_count": null,
   "id": "89b64e7e",
   "metadata": {},
   "outputs": [],
   "source": []
  }
 ],
 "metadata": {
  "kernelspec": {
   "display_name": "Python 3 (ipykernel)",
   "language": "python",
   "name": "python3"
  },
  "language_info": {
   "codemirror_mode": {
    "name": "ipython",
    "version": 3
   },
   "file_extension": ".py",
   "mimetype": "text/x-python",
   "name": "python",
   "nbconvert_exporter": "python",
   "pygments_lexer": "ipython3",
   "version": "3.9.5"
  }
 },
 "nbformat": 4,
 "nbformat_minor": 5
}
