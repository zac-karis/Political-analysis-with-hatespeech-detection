{
 "cells": [
  {
   "cell_type": "code",
   "execution_count": 1,
   "id": "e22cb569-246c-4cce-a271-450218fc9049",
   "metadata": {},
   "outputs": [
    {
     "name": "stderr",
     "output_type": "stream",
     "text": [
      "[nltk_data] Downloading package stopwords to\n",
      "[nltk_data]     C:\\Users\\User\\AppData\\Roaming\\nltk_data...\n",
      "[nltk_data]   Package stopwords is already up-to-date!\n"
     ]
    }
   ],
   "source": [
    "import numpy as np # linear algebra\n",
    "import pandas as pd # data processing, CSV file I/O (e.g. pd.read_csv)\n",
    "import matplotlib.pyplot as plt\n",
    "from wordcloud import WordCloud\n",
    "\n",
    "#to data preprocessing\n",
    "from sklearn.compose import ColumnTransformer\n",
    "from sklearn.preprocessing import OneHotEncoder\n",
    "\n",
    "#NLP tools\n",
    "import re\n",
    "import string\n",
    "import nltk\n",
    "nltk.download('stopwords')\n",
    "from nltk.corpus import stopwords\n",
    "from nltk.stem.porter import PorterStemmer\n",
    "from sklearn.feature_extraction.text import CountVectorizer\n",
    "from sklearn.feature_extraction.text import TfidfTransformer\n",
    "\n",
    "#train split and fit models\n",
    "from sklearn.model_selection import train_test_split\n",
    "from sklearn import svm\n",
    "from sklearn.ensemble import RandomForestClassifier\n",
    "from sklearn.linear_model import LogisticRegression\n",
    "from sklearn.neighbors import KNeighborsClassifier\n",
    "from sklearn.tree import DecisionTreeClassifier\n",
    "from sklearn.naive_bayes import MultinomialNB\n",
    "  \n",
    "#model selection\n",
    "from sklearn.metrics import confusion_matrix, accuracy_score\n"
   ]
  },
  {
   "cell_type": "code",
   "execution_count": 46,
   "id": "511806f1-ac11-4c05-a939-2bfea2eb182f",
   "metadata": {},
   "outputs": [
    {
     "name": "stdout",
     "output_type": "stream",
     "text": [
      "<class 'pandas.core.frame.DataFrame'>\n",
      "RangeIndex: 24783 entries, 0 to 24782\n",
      "Data columns (total 7 columns):\n",
      " #   Column              Non-Null Count  Dtype \n",
      "---  ------              --------------  ----- \n",
      " 0   Unnamed: 0          24783 non-null  int64 \n",
      " 1   count               24783 non-null  int64 \n",
      " 2   hate_speech         24783 non-null  int64 \n",
      " 3   offensive_language  24783 non-null  int64 \n",
      " 4   neither             24783 non-null  int64 \n",
      " 5   class               24783 non-null  int64 \n",
      " 6   tweet               24783 non-null  object\n",
      "dtypes: int64(6), object(1)\n",
      "memory usage: 1.3+ MB\n"
     ]
    }
   ],
   "source": [
    "import os\n",
    "#to get the current working directory\n",
    "directory = os.getcwd()\n",
    "#Importing the dataset\n",
    "dataset = pd.read_csv(directory +'\\data_sets\\hate-speech-and-offensive-language-dataset\\labeled_data.csv')\n",
    "dataset.info()\n",
    "ke_dataset = pd.read_csv(directory +'\\data_sets\\\\hate-speech-kenya\\\\HateSpeechKEN.csv')\n",
    "data_train = pd.read_csv(directory +'\\data_sets\\\\twitter-sentiment-analysis-hatred-speech\\\\train.csv')"
   ]
  },
  {
   "cell_type": "code",
   "execution_count": 3,
   "id": "2d331f61-59be-43dd-8548-c9bee8e226e3",
   "metadata": {},
   "outputs": [
    {
     "data": {
      "text/html": [
       "<div>\n",
       "<style scoped>\n",
       "    .dataframe tbody tr th:only-of-type {\n",
       "        vertical-align: middle;\n",
       "    }\n",
       "\n",
       "    .dataframe tbody tr th {\n",
       "        vertical-align: top;\n",
       "    }\n",
       "\n",
       "    .dataframe thead th {\n",
       "        text-align: right;\n",
       "    }\n",
       "</style>\n",
       "<table border=\"1\" class=\"dataframe\">\n",
       "  <thead>\n",
       "    <tr style=\"text-align: right;\">\n",
       "      <th></th>\n",
       "      <th>count</th>\n",
       "      <th>mean</th>\n",
       "      <th>std</th>\n",
       "      <th>min</th>\n",
       "      <th>25%</th>\n",
       "      <th>50%</th>\n",
       "      <th>75%</th>\n",
       "      <th>max</th>\n",
       "    </tr>\n",
       "  </thead>\n",
       "  <tbody>\n",
       "    <tr>\n",
       "      <th>Unnamed: 0</th>\n",
       "      <td>24783.0</td>\n",
       "      <td>12681.192027</td>\n",
       "      <td>7299.553863</td>\n",
       "      <td>0.0</td>\n",
       "      <td>6372.5</td>\n",
       "      <td>12703.0</td>\n",
       "      <td>18995.5</td>\n",
       "      <td>25296.0</td>\n",
       "    </tr>\n",
       "    <tr>\n",
       "      <th>count</th>\n",
       "      <td>24783.0</td>\n",
       "      <td>3.243473</td>\n",
       "      <td>0.883060</td>\n",
       "      <td>3.0</td>\n",
       "      <td>3.0</td>\n",
       "      <td>3.0</td>\n",
       "      <td>3.0</td>\n",
       "      <td>9.0</td>\n",
       "    </tr>\n",
       "    <tr>\n",
       "      <th>hate_speech</th>\n",
       "      <td>24783.0</td>\n",
       "      <td>0.280515</td>\n",
       "      <td>0.631851</td>\n",
       "      <td>0.0</td>\n",
       "      <td>0.0</td>\n",
       "      <td>0.0</td>\n",
       "      <td>0.0</td>\n",
       "      <td>7.0</td>\n",
       "    </tr>\n",
       "    <tr>\n",
       "      <th>offensive_language</th>\n",
       "      <td>24783.0</td>\n",
       "      <td>2.413711</td>\n",
       "      <td>1.399459</td>\n",
       "      <td>0.0</td>\n",
       "      <td>2.0</td>\n",
       "      <td>3.0</td>\n",
       "      <td>3.0</td>\n",
       "      <td>9.0</td>\n",
       "    </tr>\n",
       "    <tr>\n",
       "      <th>neither</th>\n",
       "      <td>24783.0</td>\n",
       "      <td>0.549247</td>\n",
       "      <td>1.113299</td>\n",
       "      <td>0.0</td>\n",
       "      <td>0.0</td>\n",
       "      <td>0.0</td>\n",
       "      <td>0.0</td>\n",
       "      <td>9.0</td>\n",
       "    </tr>\n",
       "    <tr>\n",
       "      <th>class</th>\n",
       "      <td>24783.0</td>\n",
       "      <td>1.110277</td>\n",
       "      <td>0.462089</td>\n",
       "      <td>0.0</td>\n",
       "      <td>1.0</td>\n",
       "      <td>1.0</td>\n",
       "      <td>1.0</td>\n",
       "      <td>2.0</td>\n",
       "    </tr>\n",
       "  </tbody>\n",
       "</table>\n",
       "</div>"
      ],
      "text/plain": [
       "                      count          mean          std  min     25%      50%  \\\n",
       "Unnamed: 0          24783.0  12681.192027  7299.553863  0.0  6372.5  12703.0   \n",
       "count               24783.0      3.243473     0.883060  3.0     3.0      3.0   \n",
       "hate_speech         24783.0      0.280515     0.631851  0.0     0.0      0.0   \n",
       "offensive_language  24783.0      2.413711     1.399459  0.0     2.0      3.0   \n",
       "neither             24783.0      0.549247     1.113299  0.0     0.0      0.0   \n",
       "class               24783.0      1.110277     0.462089  0.0     1.0      1.0   \n",
       "\n",
       "                        75%      max  \n",
       "Unnamed: 0          18995.5  25296.0  \n",
       "count                   3.0      9.0  \n",
       "hate_speech             0.0      7.0  \n",
       "offensive_language      3.0      9.0  \n",
       "neither                 0.0      9.0  \n",
       "class                   1.0      2.0  "
      ]
     },
     "execution_count": 3,
     "metadata": {},
     "output_type": "execute_result"
    }
   ],
   "source": [
    "dataset.describe().T"
   ]
  },
  {
   "cell_type": "code",
   "execution_count": 4,
   "id": "191db29f-a373-405c-935e-40d57667e187",
   "metadata": {},
   "outputs": [
    {
     "data": {
      "text/plain": [
       "(24783, 7)"
      ]
     },
     "execution_count": 4,
     "metadata": {},
     "output_type": "execute_result"
    }
   ],
   "source": [
    "dataset.shape"
   ]
  },
  {
   "cell_type": "code",
   "execution_count": 5,
   "id": "e20b69b3-1555-457c-be10-609f5c180587",
   "metadata": {},
   "outputs": [
    {
     "data": {
      "text/html": [
       "<div>\n",
       "<style scoped>\n",
       "    .dataframe tbody tr th:only-of-type {\n",
       "        vertical-align: middle;\n",
       "    }\n",
       "\n",
       "    .dataframe tbody tr th {\n",
       "        vertical-align: top;\n",
       "    }\n",
       "\n",
       "    .dataframe thead th {\n",
       "        text-align: right;\n",
       "    }\n",
       "</style>\n",
       "<table border=\"1\" class=\"dataframe\">\n",
       "  <thead>\n",
       "    <tr style=\"text-align: right;\">\n",
       "      <th></th>\n",
       "      <th>Unnamed: 0</th>\n",
       "      <th>count</th>\n",
       "      <th>hate_speech</th>\n",
       "      <th>offensive_language</th>\n",
       "      <th>neither</th>\n",
       "      <th>class</th>\n",
       "      <th>tweet</th>\n",
       "    </tr>\n",
       "  </thead>\n",
       "  <tbody>\n",
       "    <tr>\n",
       "      <th>0</th>\n",
       "      <td>0</td>\n",
       "      <td>3</td>\n",
       "      <td>0</td>\n",
       "      <td>0</td>\n",
       "      <td>3</td>\n",
       "      <td>2</td>\n",
       "      <td>!!! RT @mayasolovely: As a woman you shouldn't...</td>\n",
       "    </tr>\n",
       "    <tr>\n",
       "      <th>1</th>\n",
       "      <td>1</td>\n",
       "      <td>3</td>\n",
       "      <td>0</td>\n",
       "      <td>3</td>\n",
       "      <td>0</td>\n",
       "      <td>1</td>\n",
       "      <td>!!!!! RT @mleew17: boy dats cold...tyga dwn ba...</td>\n",
       "    </tr>\n",
       "    <tr>\n",
       "      <th>2</th>\n",
       "      <td>2</td>\n",
       "      <td>3</td>\n",
       "      <td>0</td>\n",
       "      <td>3</td>\n",
       "      <td>0</td>\n",
       "      <td>1</td>\n",
       "      <td>!!!!!!! RT @UrKindOfBrand Dawg!!!! RT @80sbaby...</td>\n",
       "    </tr>\n",
       "    <tr>\n",
       "      <th>3</th>\n",
       "      <td>3</td>\n",
       "      <td>3</td>\n",
       "      <td>0</td>\n",
       "      <td>2</td>\n",
       "      <td>1</td>\n",
       "      <td>1</td>\n",
       "      <td>!!!!!!!!! RT @C_G_Anderson: @viva_based she lo...</td>\n",
       "    </tr>\n",
       "    <tr>\n",
       "      <th>4</th>\n",
       "      <td>4</td>\n",
       "      <td>6</td>\n",
       "      <td>0</td>\n",
       "      <td>6</td>\n",
       "      <td>0</td>\n",
       "      <td>1</td>\n",
       "      <td>!!!!!!!!!!!!! RT @ShenikaRoberts: The shit you...</td>\n",
       "    </tr>\n",
       "    <tr>\n",
       "      <th>5</th>\n",
       "      <td>5</td>\n",
       "      <td>3</td>\n",
       "      <td>1</td>\n",
       "      <td>2</td>\n",
       "      <td>0</td>\n",
       "      <td>1</td>\n",
       "      <td>!!!!!!!!!!!!!!!!!!\"@T_Madison_x: The shit just...</td>\n",
       "    </tr>\n",
       "    <tr>\n",
       "      <th>6</th>\n",
       "      <td>6</td>\n",
       "      <td>3</td>\n",
       "      <td>0</td>\n",
       "      <td>3</td>\n",
       "      <td>0</td>\n",
       "      <td>1</td>\n",
       "      <td>!!!!!!\"@__BrighterDays: I can not just sit up ...</td>\n",
       "    </tr>\n",
       "    <tr>\n",
       "      <th>7</th>\n",
       "      <td>7</td>\n",
       "      <td>3</td>\n",
       "      <td>0</td>\n",
       "      <td>3</td>\n",
       "      <td>0</td>\n",
       "      <td>1</td>\n",
       "      <td>!!!!&amp;#8220;@selfiequeenbri: cause I'm tired of...</td>\n",
       "    </tr>\n",
       "    <tr>\n",
       "      <th>8</th>\n",
       "      <td>8</td>\n",
       "      <td>3</td>\n",
       "      <td>0</td>\n",
       "      <td>3</td>\n",
       "      <td>0</td>\n",
       "      <td>1</td>\n",
       "      <td>\" &amp;amp; you might not get ya bitch back &amp;amp; ...</td>\n",
       "    </tr>\n",
       "    <tr>\n",
       "      <th>9</th>\n",
       "      <td>9</td>\n",
       "      <td>3</td>\n",
       "      <td>1</td>\n",
       "      <td>2</td>\n",
       "      <td>0</td>\n",
       "      <td>1</td>\n",
       "      <td>\" @rhythmixx_ :hobbies include: fighting Maria...</td>\n",
       "    </tr>\n",
       "  </tbody>\n",
       "</table>\n",
       "</div>"
      ],
      "text/plain": [
       "   Unnamed: 0  count  hate_speech  offensive_language  neither  class  \\\n",
       "0           0      3            0                   0        3      2   \n",
       "1           1      3            0                   3        0      1   \n",
       "2           2      3            0                   3        0      1   \n",
       "3           3      3            0                   2        1      1   \n",
       "4           4      6            0                   6        0      1   \n",
       "5           5      3            1                   2        0      1   \n",
       "6           6      3            0                   3        0      1   \n",
       "7           7      3            0                   3        0      1   \n",
       "8           8      3            0                   3        0      1   \n",
       "9           9      3            1                   2        0      1   \n",
       "\n",
       "                                               tweet  \n",
       "0  !!! RT @mayasolovely: As a woman you shouldn't...  \n",
       "1  !!!!! RT @mleew17: boy dats cold...tyga dwn ba...  \n",
       "2  !!!!!!! RT @UrKindOfBrand Dawg!!!! RT @80sbaby...  \n",
       "3  !!!!!!!!! RT @C_G_Anderson: @viva_based she lo...  \n",
       "4  !!!!!!!!!!!!! RT @ShenikaRoberts: The shit you...  \n",
       "5  !!!!!!!!!!!!!!!!!!\"@T_Madison_x: The shit just...  \n",
       "6  !!!!!!\"@__BrighterDays: I can not just sit up ...  \n",
       "7  !!!!&#8220;@selfiequeenbri: cause I'm tired of...  \n",
       "8  \" &amp; you might not get ya bitch back &amp; ...  \n",
       "9  \" @rhythmixx_ :hobbies include: fighting Maria...  "
      ]
     },
     "execution_count": 5,
     "metadata": {},
     "output_type": "execute_result"
    }
   ],
   "source": [
    "dataset.head(10)"
   ]
  },
  {
   "cell_type": "code",
   "execution_count": 6,
   "id": "24b4949a-6e3e-4a3a-9807-1789792cb6a9",
   "metadata": {},
   "outputs": [],
   "source": [
    "dataset.drop(['Unnamed: 0','count','hate_speech','offensive_language','neither'],axis=1,inplace=True)\n",
    "ke_dataset.drop(['count','hate_speech','offensive_language','neither'],axis=1,inplace=True)\n",
    "data_train.drop('id', axis=1,inplace=True)"
   ]
  },
  {
   "cell_type": "code",
   "execution_count": 7,
   "id": "4e78b9ec-2fde-4807-b292-f3fbc46bbb01",
   "metadata": {},
   "outputs": [],
   "source": [
    "dataset[\"class\"].replace({0: 1}, inplace=True)\n",
    "ke_dataset[\"class\"].replace({0: 1}, inplace=True)"
   ]
  },
  {
   "cell_type": "code",
   "execution_count": 8,
   "id": "98d0af49-8662-4352-ab70-ed5efb57d391",
   "metadata": {},
   "outputs": [
    {
     "data": {
      "text/plain": [
       "array([2, 1], dtype=int64)"
      ]
     },
     "execution_count": 8,
     "metadata": {},
     "output_type": "execute_result"
    }
   ],
   "source": [
    "dataset['class'].unique()"
   ]
  },
  {
   "cell_type": "code",
   "execution_count": 9,
   "id": "27277fda-293e-471e-afe1-6a4ed6d65a68",
   "metadata": {},
   "outputs": [],
   "source": [
    "dataset[\"class\"].replace({2: 0}, inplace=True)\n",
    "ke_dataset[\"class\"].replace({2: 0}, inplace=True)\n",
    "dataset.rename(columns ={'class':'label'}, inplace = True)\n",
    "ke_dataset.rename(columns ={'class':'label'}, inplace = True)"
   ]
  },
  {
   "cell_type": "code",
   "execution_count": 10,
   "id": "759de131-a1b8-4020-80e3-3e4e9bda0265",
   "metadata": {},
   "outputs": [
    {
     "data": {
      "text/html": [
       "<div>\n",
       "<style scoped>\n",
       "    .dataframe tbody tr th:only-of-type {\n",
       "        vertical-align: middle;\n",
       "    }\n",
       "\n",
       "    .dataframe tbody tr th {\n",
       "        vertical-align: top;\n",
       "    }\n",
       "\n",
       "    .dataframe thead th {\n",
       "        text-align: right;\n",
       "    }\n",
       "</style>\n",
       "<table border=\"1\" class=\"dataframe\">\n",
       "  <thead>\n",
       "    <tr style=\"text-align: right;\">\n",
       "      <th></th>\n",
       "      <th>label</th>\n",
       "      <th>tweet</th>\n",
       "    </tr>\n",
       "  </thead>\n",
       "  <tbody>\n",
       "    <tr>\n",
       "      <th>0</th>\n",
       "      <td>0</td>\n",
       "      <td>@user when a father is dysfunctional and is s...</td>\n",
       "    </tr>\n",
       "    <tr>\n",
       "      <th>1</th>\n",
       "      <td>0</td>\n",
       "      <td>@user @user thanks for #lyft credit i can't us...</td>\n",
       "    </tr>\n",
       "    <tr>\n",
       "      <th>2</th>\n",
       "      <td>0</td>\n",
       "      <td>bihday your majesty</td>\n",
       "    </tr>\n",
       "    <tr>\n",
       "      <th>3</th>\n",
       "      <td>0</td>\n",
       "      <td>#model   i love u take with u all the time in ...</td>\n",
       "    </tr>\n",
       "    <tr>\n",
       "      <th>4</th>\n",
       "      <td>0</td>\n",
       "      <td>factsguide: society now    #motivation</td>\n",
       "    </tr>\n",
       "  </tbody>\n",
       "</table>\n",
       "</div>"
      ],
      "text/plain": [
       "   label                                              tweet\n",
       "0      0   @user when a father is dysfunctional and is s...\n",
       "1      0  @user @user thanks for #lyft credit i can't us...\n",
       "2      0                                bihday your majesty\n",
       "3      0  #model   i love u take with u all the time in ...\n",
       "4      0             factsguide: society now    #motivation"
      ]
     },
     "execution_count": 10,
     "metadata": {},
     "output_type": "execute_result"
    }
   ],
   "source": [
    "frame=[data_train,dataset,ke_dataset[25500::]]\n",
    "df = pd.concat(frame)\n",
    "df.head(5)"
   ]
  },
  {
   "cell_type": "code",
   "execution_count": 11,
   "id": "80646b73-3c61-4bfe-8a75-43b4bc621556",
   "metadata": {},
   "outputs": [],
   "source": [
    "stemmer = nltk.SnowballStemmer(\"english\")\n",
    "stopword=set(stopwords.words('english'))\n",
    "def clean_text(text):\n",
    "    text = str(text).lower()\n",
    "    text = re.sub('\\[.*?\\]', '', text)\n",
    "    text = re.sub('https?://\\S+|www\\.\\S+', '', text)\n",
    "    text = re.sub('<.*?>+', '', text)\n",
    "    text = re.sub('[%s]' % re.escape(string.punctuation), '', text)\n",
    "    text = re.sub('\\n', '', text)\n",
    "    text = re.sub('\\w*\\d\\w*', '', text)\n",
    "    text = [word for word in text.split(' ') if word not in stopword]\n",
    "    text=\" \".join(text)\n",
    "    text = [stemmer.stem(word) for word in text.split(' ')]\n",
    "    text=\" \".join(text)\n",
    "    return text"
   ]
  },
  {
   "cell_type": "code",
   "execution_count": 12,
   "id": "6949d0ec-9a2b-4806-a830-5b862cde70e9",
   "metadata": {},
   "outputs": [
    {
     "data": {
      "text/plain": [
       "(81420, 2)"
      ]
     },
     "execution_count": 12,
     "metadata": {},
     "output_type": "execute_result"
    }
   ],
   "source": [
    "df['tweet']=df['tweet'].apply(clean_text)\n",
    "df.head()\n",
    "df.shape"
   ]
  },
  {
   "cell_type": "code",
   "execution_count": 13,
   "id": "c3d2a639-c8a1-4920-bf6c-ec60e3c96246",
   "metadata": {},
   "outputs": [],
   "source": [
    "X = df['tweet']\n",
    "y = df['label']"
   ]
  },
  {
   "cell_type": "code",
   "execution_count": 14,
   "id": "ef4ab03f-cf92-4a09-8bf7-3b6f49405c9e",
   "metadata": {},
   "outputs": [],
   "source": [
    "#splitting the dataset into Trainign and testing data set\n",
    "X_train, X_test, y_train, y_test = train_test_split(X, y, random_state = 42)"
   ]
  },
  {
   "cell_type": "code",
   "execution_count": 15,
   "id": "8116d47e-ab92-4b4c-9243-ea3adde824ec",
   "metadata": {},
   "outputs": [
    {
     "name": "stdout",
     "output_type": "stream",
     "text": [
      "61065 61065\n",
      "20355 20355\n"
     ]
    }
   ],
   "source": [
    "print(len(X_train), len(y_train))\n",
    "print(len(X_test), len(y_test))"
   ]
  },
  {
   "cell_type": "code",
   "execution_count": 16,
   "id": "6b82673a-90ca-4ede-bb49-db4449e215f6",
   "metadata": {},
   "outputs": [
    {
     "data": {
      "text/plain": [
       "array([[0, 0, 0, ..., 0, 0, 0],\n",
       "       [0, 0, 0, ..., 0, 0, 0],\n",
       "       [0, 0, 0, ..., 0, 0, 0],\n",
       "       ...,\n",
       "       [0, 0, 0, ..., 0, 0, 0],\n",
       "       [0, 0, 0, ..., 0, 0, 0],\n",
       "       [0, 0, 0, ..., 0, 0, 0]], dtype=int64)"
      ]
     },
     "execution_count": 16,
     "metadata": {},
     "output_type": "execute_result"
    }
   ],
   "source": [
    "count = CountVectorizer(stop_words='english', ngram_range=(1,5),max_features=2000)\n",
    "x_train_vectorizer=count.fit_transform(X_train)\n",
    "x_test_vectorizer=count.transform(X_test)\n",
    "x_train_vectorizer.toarray()"
   ]
  },
  {
   "cell_type": "code",
   "execution_count": 17,
   "id": "60d1a9b2-d418-4f9a-a488-486b65b8b508",
   "metadata": {},
   "outputs": [],
   "source": [
    "#\n",
    "tfidf = TfidfTransformer()\n",
    "\n",
    "x_train_tfidf = tfidf.fit_transform(x_train_vectorizer)\n",
    "\n",
    "x_train_tfidf.toarray()\n",
    "x_test_tfidf = tfidf.transform(x_test_vectorizer)"
   ]
  },
  {
   "cell_type": "code",
   "execution_count": 34,
   "id": "8b7e60c6-96a6-419f-b0fa-44275a747e93",
   "metadata": {},
   "outputs": [
    {
     "data": {
      "text/plain": [
       "SVC()"
      ]
     },
     "execution_count": 34,
     "metadata": {},
     "output_type": "execute_result"
    }
   ],
   "source": [
    "#Using the svm model to predict hate speech and offensive language\n",
    "classifier_svm = svm.SVC()\n",
    "classifier_svm.fit(x_train_vectorizer, y_train)"
   ]
  },
  {
   "cell_type": "code",
   "execution_count": 18,
   "id": "bca3fb6a-7be1-45a2-b656-501c8e68431e",
   "metadata": {},
   "outputs": [
    {
     "data": {
      "text/plain": [
       "MultinomialNB()"
      ]
     },
     "execution_count": 18,
     "metadata": {},
     "output_type": "execute_result"
    }
   ],
   "source": [
    "#using Naive Bayes model\n",
    "classifier_np = MultinomialNB()\n",
    "classifier_np.fit(x_train_vectorizer, y_train)"
   ]
  },
  {
   "cell_type": "code",
   "execution_count": 19,
   "id": "7dfa849c-fe78-4e5d-a73b-3ef844840488",
   "metadata": {},
   "outputs": [
    {
     "data": {
      "text/plain": [
       "DecisionTreeClassifier(criterion='entropy', random_state=0)"
      ]
     },
     "execution_count": 19,
     "metadata": {},
     "output_type": "execute_result"
    }
   ],
   "source": [
    "#using Decision tree model\n",
    "classifier_dt = DecisionTreeClassifier(criterion = 'entropy', random_state = 0)\n",
    "classifier_dt.fit(x_train_vectorizer, y_train)"
   ]
  },
  {
   "cell_type": "code",
   "execution_count": 20,
   "id": "5c65fdbf-7d6a-4547-a29b-a1e1b22cd463",
   "metadata": {},
   "outputs": [
    {
     "data": {
      "text/plain": [
       "KNeighborsClassifier()"
      ]
     },
     "execution_count": 20,
     "metadata": {},
     "output_type": "execute_result"
    }
   ],
   "source": [
    "#using KNN model\n",
    "classifier_knn = KNeighborsClassifier(n_neighbors = 5, metric = 'minkowski', p = 2)\n",
    "classifier_knn.fit(x_train_vectorizer, y_train)"
   ]
  },
  {
   "cell_type": "code",
   "execution_count": 21,
   "id": "9a48f193-ff94-458c-90b9-7da1c186e469",
   "metadata": {},
   "outputs": [
    {
     "name": "stderr",
     "output_type": "stream",
     "text": [
      "D:\\Anaconda\\lib\\site-packages\\sklearn\\linear_model\\_logistic.py:763: ConvergenceWarning: lbfgs failed to converge (status=1):\n",
      "STOP: TOTAL NO. of ITERATIONS REACHED LIMIT.\n",
      "\n",
      "Increase the number of iterations (max_iter) or scale the data as shown in:\n",
      "    https://scikit-learn.org/stable/modules/preprocessing.html\n",
      "Please also refer to the documentation for alternative solver options:\n",
      "    https://scikit-learn.org/stable/modules/linear_model.html#logistic-regression\n",
      "  n_iter_i = _check_optimize_result(\n"
     ]
    },
    {
     "data": {
      "text/plain": [
       "LogisticRegression(random_state=0)"
      ]
     },
     "execution_count": 21,
     "metadata": {},
     "output_type": "execute_result"
    }
   ],
   "source": [
    "#using logistic regression model\n",
    "classifier_lr = LogisticRegression(random_state = 0)\n",
    "classifier_lr.fit(x_train_vectorizer, y_train)"
   ]
  },
  {
   "cell_type": "code",
   "execution_count": 22,
   "id": "9411d277-6565-4ddc-8d07-b94aa94814d8",
   "metadata": {},
   "outputs": [
    {
     "data": {
      "text/plain": [
       "RandomForestClassifier(criterion='entropy', n_estimators=10, random_state=0)"
      ]
     },
     "execution_count": 22,
     "metadata": {},
     "output_type": "execute_result"
    }
   ],
   "source": [
    "#using random forest model\n",
    "classifier_rf = RandomForestClassifier(n_estimators = 10, criterion = 'entropy', random_state = 0)\n",
    "classifier_rf.fit(x_train_vectorizer, y_train)"
   ]
  },
  {
   "cell_type": "code",
   "execution_count": 40,
   "id": "d8089688-7b6d-4a6a-95ed-a92b93ad3923",
   "metadata": {},
   "outputs": [
    {
     "name": "stdout",
     "output_type": "stream",
     "text": [
      "[[10609   899]\n",
      " [ 1606  7241]]\n"
     ]
    }
   ],
   "source": [
    "#Making the Confusion matrix for each model\n",
    "#SVM\n",
    "y_pred_sv = classifier_svm.predict(x_test_vectorizer)\n",
    "cm = confusion_matrix(y_test, y_pred_sv)\n",
    "print(cm)"
   ]
  },
  {
   "cell_type": "code",
   "execution_count": 23,
   "id": "afcb066b-1dfa-4a34-9b6b-ea88c4f79fb0",
   "metadata": {},
   "outputs": [
    {
     "name": "stdout",
     "output_type": "stream",
     "text": [
      "[[9346 2162]\n",
      " [1049 7798]]\n"
     ]
    }
   ],
   "source": [
    "#Naive Bayes\n",
    "y_pred_np = classifier_np.predict(x_test_vectorizer)\n",
    "cm = confusion_matrix(y_test, y_pred_np)\n",
    "print(cm)"
   ]
  },
  {
   "cell_type": "code",
   "execution_count": 24,
   "id": "6cacf370-3123-457c-b2fd-6cb5522e9500",
   "metadata": {},
   "outputs": [
    {
     "name": "stdout",
     "output_type": "stream",
     "text": [
      "[[9839 1669]\n",
      " [1675 7172]]\n"
     ]
    }
   ],
   "source": [
    "#Decision Tree\n",
    "y_pred_dt = classifier_dt.predict(x_test_vectorizer)\n",
    "cm = confusion_matrix(y_test, y_pred_dt)\n",
    "print(cm)"
   ]
  },
  {
   "cell_type": "code",
   "execution_count": 25,
   "id": "1a3c0ff1-aea7-4d32-98e6-8c1157865307",
   "metadata": {},
   "outputs": [
    {
     "name": "stdout",
     "output_type": "stream",
     "text": [
      "[[10556   952]\n",
      " [ 1706  7141]]\n"
     ]
    }
   ],
   "source": [
    "#Linear Regression\n",
    "y_pred_lr = classifier_lr.predict(x_test_vectorizer)\n",
    "cm = confusion_matrix(y_test, y_pred_lr)\n",
    "print(cm)"
   ]
  },
  {
   "cell_type": "code",
   "execution_count": 26,
   "id": "bb77446d-89c8-4be2-8582-6b79a976549f",
   "metadata": {},
   "outputs": [
    {
     "name": "stdout",
     "output_type": "stream",
     "text": [
      "[[10195  1313]\n",
      " [ 1613  7234]]\n"
     ]
    }
   ],
   "source": [
    "#Random Florest\n",
    "y_pred_rf = classifier_rf.predict(x_test_vectorizer)\n",
    "cm = confusion_matrix(y_test, y_pred_rf)\n",
    "print(cm)"
   ]
  },
  {
   "cell_type": "code",
   "execution_count": 27,
   "id": "cd5fcb5e-e965-48f8-9855-4ebe913a0acb",
   "metadata": {},
   "outputs": [
    {
     "name": "stdout",
     "output_type": "stream",
     "text": [
      "Random Forest Accuracy:  0.8562515352493245\n",
      "Linear Regression Accuracy:  0.8694178334561533\n",
      "Decision Tree Accuracy:  0.8357160402849423\n",
      "Naive Bayes Accuracy:  0.8422500614099729\n"
     ]
    }
   ],
   "source": [
    "#comparing the acurracy of the different\n",
    "# models to pick the best\n",
    "#sv_score = accuracy_score(y_test, y_pred_sv)\n",
    "rf_score = accuracy_score(y_test, y_pred_rf)\n",
    "lr_score = accuracy_score(y_test, y_pred_lr)\n",
    "dt_score = accuracy_score(y_test, y_pred_dt)\n",
    "np_score = accuracy_score(y_test, y_pred_np)\n",
    "\n",
    "\n",
    "#print('SVM: ', str(sv_score))\n",
    "print('Random Forest Accuracy: ', str(rf_score))\n",
    "print('Linear Regression Accuracy: ', str(lr_score))\n",
    "print('Decision Tree Accuracy: ', str(dt_score))\n",
    "print('Naive Bayes Accuracy: ', str(np_score))"
   ]
  },
  {
   "cell_type": "code",
   "execution_count": 28,
   "id": "49b06274-ea2a-4ed3-9b52-fc837c83dade",
   "metadata": {},
   "outputs": [
    {
     "name": "stdout",
     "output_type": "stream",
     "text": [
      "<class 'pandas.core.frame.DataFrame'>\n",
      "RangeIndex: 465 entries, 0 to 464\n",
      "Data columns (total 4 columns):\n",
      " #   Column    Non-Null Count  Dtype \n",
      "---  ------    --------------  ----- \n",
      " 0   User      465 non-null    object\n",
      " 1   Reply     465 non-null    object\n",
      " 2   Likes     465 non-null    int64 \n",
      " 3   Retweets  465 non-null    int64 \n",
      "dtypes: int64(2), object(2)\n",
      "memory usage: 14.7+ KB\n"
     ]
    }
   ],
   "source": [
    "#Import the data we are going to predict\n",
    "data=pd.read_csv(directory+'\\data_files\\Tweet_replies.csv')\n",
    "data.info()\n",
    "n=len(data)\n"
   ]
  },
  {
   "cell_type": "code",
   "execution_count": 44,
   "id": "38ac0113-da27-4013-b058-b04928ccf78c",
   "metadata": {},
   "outputs": [],
   "source": [
    "def detect_hatespeech(text):\n",
    "    text=[clean_text(text)]\n",
    "    text_vectorizer=count.transform(text)\n",
    "    test_tfidf = tfidf.transform(text_vectorizer)\n",
    "    prediction=classifier_np.predict(test_tfidf)\n",
    "    category=\"none\"\n",
    "    if prediction[0]==0:\n",
    "        category=\"not hateful\"\n",
    "    else:\n",
    "        category=\"hateful and offensive\"\n",
    "    return category\n",
    "    "
   ]
  },
  {
   "cell_type": "code",
   "execution_count": 45,
   "id": "4fe4f12d-f94c-47a7-b7f2-fba71355ff0e",
   "metadata": {},
   "outputs": [
    {
     "data": {
      "text/plain": [
       "'hateful and offensive'"
      ]
     },
     "execution_count": 45,
     "metadata": {},
     "output_type": "execute_result"
    }
   ],
   "source": [
    "text1=\"unakaa kama ngombe\"#Swahili text translating to \"you look like a cow\"\n",
    "text2=\"We shall revange all the death they have caused\"\n",
    "text3=\"the only way we move forward is together\"\n",
    "text4=\"yet you still want to participate in his ignorant interpretation of the law..?? @iebckenya #noreformsnoelections\"\n",
    "text5=\"I wish for ounce if there were no killings\"\n",
    "text6=\"I wish for more killing\"\n",
    "detect_hatespeech(text1)"
   ]
  },
  {
   "cell_type": "code",
   "execution_count": 41,
   "id": "0724eb92-0925-482a-9865-6b5a2a4044c9",
   "metadata": {},
   "outputs": [
    {
     "data": {
      "text/html": [
       "<div>\n",
       "<style scoped>\n",
       "    .dataframe tbody tr th:only-of-type {\n",
       "        vertical-align: middle;\n",
       "    }\n",
       "\n",
       "    .dataframe tbody tr th {\n",
       "        vertical-align: top;\n",
       "    }\n",
       "\n",
       "    .dataframe thead th {\n",
       "        text-align: right;\n",
       "    }\n",
       "</style>\n",
       "<table border=\"1\" class=\"dataframe\">\n",
       "  <thead>\n",
       "    <tr style=\"text-align: right;\">\n",
       "      <th></th>\n",
       "      <th>User</th>\n",
       "      <th>Reply</th>\n",
       "      <th>Likes</th>\n",
       "      <th>Retweets</th>\n",
       "      <th>Hatespeech Category</th>\n",
       "    </tr>\n",
       "  </thead>\n",
       "  <tbody>\n",
       "    <tr>\n",
       "      <th>0</th>\n",
       "      <td>atienooloo1</td>\n",
       "      <td>@StandardKenya 🤣🤣🤣🤣🤣🤣</td>\n",
       "      <td>0</td>\n",
       "      <td>0</td>\n",
       "      <td>not hateful</td>\n",
       "    </tr>\n",
       "    <tr>\n",
       "      <th>1</th>\n",
       "      <td>ngarijoseph802</td>\n",
       "      <td>@StandardKenya The 5th we have been loking for...</td>\n",
       "      <td>0</td>\n",
       "      <td>0</td>\n",
       "      <td>hateful and offensive</td>\n",
       "    </tr>\n",
       "    <tr>\n",
       "      <th>2</th>\n",
       "      <td>Governorjaymo</td>\n",
       "      <td>@StandardKenya Perfect the president we need t...</td>\n",
       "      <td>0</td>\n",
       "      <td>0</td>\n",
       "      <td>not hateful</td>\n",
       "    </tr>\n",
       "    <tr>\n",
       "      <th>3</th>\n",
       "      <td>MNyabende</td>\n",
       "      <td>@StandardKenya Is presidential candidature thi...</td>\n",
       "      <td>0</td>\n",
       "      <td>0</td>\n",
       "      <td>hateful and offensive</td>\n",
       "    </tr>\n",
       "    <tr>\n",
       "      <th>4</th>\n",
       "      <td>yours_sincereIy</td>\n",
       "      <td>@StandardKenya Finally we got someone who's se...</td>\n",
       "      <td>0</td>\n",
       "      <td>0</td>\n",
       "      <td>not hateful</td>\n",
       "    </tr>\n",
       "    <tr>\n",
       "      <th>5</th>\n",
       "      <td>KiumbeSammy</td>\n",
       "      <td>@StandardKenya Look  for another country not k...</td>\n",
       "      <td>0</td>\n",
       "      <td>0</td>\n",
       "      <td>not hateful</td>\n",
       "    </tr>\n",
       "    <tr>\n",
       "      <th>6</th>\n",
       "      <td>binraccooon</td>\n",
       "      <td>@StandardKenya https://t.co/9AqYnLtCEs</td>\n",
       "      <td>0</td>\n",
       "      <td>0</td>\n",
       "      <td>not hateful</td>\n",
       "    </tr>\n",
       "    <tr>\n",
       "      <th>7</th>\n",
       "      <td>arap_chesulut</td>\n",
       "      <td>@StandardKenya Bhangi ni mbaya......</td>\n",
       "      <td>0</td>\n",
       "      <td>0</td>\n",
       "      <td>hateful and offensive</td>\n",
       "    </tr>\n",
       "    <tr>\n",
       "      <th>8</th>\n",
       "      <td>GoodContentHere</td>\n",
       "      <td>@StandardKenya @sain4847 Following the lead of...</td>\n",
       "      <td>1</td>\n",
       "      <td>0</td>\n",
       "      <td>not hateful</td>\n",
       "    </tr>\n",
       "    <tr>\n",
       "      <th>9</th>\n",
       "      <td>JosephKimanga3</td>\n",
       "      <td>@StandardKenya Bhang working in your head my f...</td>\n",
       "      <td>0</td>\n",
       "      <td>0</td>\n",
       "      <td>not hateful</td>\n",
       "    </tr>\n",
       "    <tr>\n",
       "      <th>10</th>\n",
       "      <td>GeneralHassanN1</td>\n",
       "      <td>@StandardKenya Kura yangu ni yako Prof</td>\n",
       "      <td>0</td>\n",
       "      <td>0</td>\n",
       "      <td>hateful and offensive</td>\n",
       "    </tr>\n",
       "    <tr>\n",
       "      <th>11</th>\n",
       "      <td>kingoofw</td>\n",
       "      <td>@StandardKenya He probably needs to be taken t...</td>\n",
       "      <td>0</td>\n",
       "      <td>0</td>\n",
       "      <td>not hateful</td>\n",
       "    </tr>\n",
       "    <tr>\n",
       "      <th>12</th>\n",
       "      <td>ChiuriJoseph</td>\n",
       "      <td>@StandardKenya Bangi si dawa</td>\n",
       "      <td>0</td>\n",
       "      <td>0</td>\n",
       "      <td>hateful and offensive</td>\n",
       "    </tr>\n",
       "    <tr>\n",
       "      <th>13</th>\n",
       "      <td>Yekon6</td>\n",
       "      <td>@StandardKenya Clear all crb listed</td>\n",
       "      <td>0</td>\n",
       "      <td>0</td>\n",
       "      <td>not hateful</td>\n",
       "    </tr>\n",
       "    <tr>\n",
       "      <th>14</th>\n",
       "      <td>ombuimecha</td>\n",
       "      <td>@StandardKenya Hapo sawa</td>\n",
       "      <td>0</td>\n",
       "      <td>0</td>\n",
       "      <td>not hateful</td>\n",
       "    </tr>\n",
       "    <tr>\n",
       "      <th>15</th>\n",
       "      <td>fluganje</td>\n",
       "      <td>@StandardKenya Why work days Mon to Thursday?</td>\n",
       "      <td>0</td>\n",
       "      <td>0</td>\n",
       "      <td>not hateful</td>\n",
       "    </tr>\n",
       "    <tr>\n",
       "      <th>16</th>\n",
       "      <td>Makaobora</td>\n",
       "      <td>@StandardKenya @KennethMuriuk10 Do you want to...</td>\n",
       "      <td>0</td>\n",
       "      <td>0</td>\n",
       "      <td>not hateful</td>\n",
       "    </tr>\n",
       "    <tr>\n",
       "      <th>17</th>\n",
       "      <td>NyaangaBoniface</td>\n",
       "      <td>@StandardKenya What is the need of going to sc...</td>\n",
       "      <td>0</td>\n",
       "      <td>0</td>\n",
       "      <td>not hateful</td>\n",
       "    </tr>\n",
       "    <tr>\n",
       "      <th>18</th>\n",
       "      <td>fanmuga</td>\n",
       "      <td>@StandardKenya The head of Professors are full...</td>\n",
       "      <td>0</td>\n",
       "      <td>0</td>\n",
       "      <td>not hateful</td>\n",
       "    </tr>\n",
       "    <tr>\n",
       "      <th>19</th>\n",
       "      <td>fanmuga</td>\n",
       "      <td>@StandardKenya Don't try all those in Kenya......</td>\n",
       "      <td>0</td>\n",
       "      <td>0</td>\n",
       "      <td>hateful and offensive</td>\n",
       "    </tr>\n",
       "    <tr>\n",
       "      <th>20</th>\n",
       "      <td>OnongKonong</td>\n",
       "      <td>@StandardKenya The fifth</td>\n",
       "      <td>0</td>\n",
       "      <td>0</td>\n",
       "      <td>not hateful</td>\n",
       "    </tr>\n",
       "    <tr>\n",
       "      <th>21</th>\n",
       "      <td>iamjosehk</td>\n",
       "      <td>@StandardKenya The one</td>\n",
       "      <td>0</td>\n",
       "      <td>0</td>\n",
       "      <td>not hateful</td>\n",
       "    </tr>\n",
       "    <tr>\n",
       "      <th>22</th>\n",
       "      <td>OAnyula</td>\n",
       "      <td>@StandardKenya Sily mentality</td>\n",
       "      <td>0</td>\n",
       "      <td>0</td>\n",
       "      <td>hateful and offensive</td>\n",
       "    </tr>\n",
       "    <tr>\n",
       "      <th>23</th>\n",
       "      <td>okumu_phanuel</td>\n",
       "      <td>@StandardKenya And he is a Professor. Kusoma h...</td>\n",
       "      <td>0</td>\n",
       "      <td>0</td>\n",
       "      <td>not hateful</td>\n",
       "    </tr>\n",
       "    <tr>\n",
       "      <th>24</th>\n",
       "      <td>ABUNGWENO</td>\n",
       "      <td>@StandardKenya Already hata bhang imemukumywa</td>\n",
       "      <td>0</td>\n",
       "      <td>0</td>\n",
       "      <td>hateful and offensive</td>\n",
       "    </tr>\n",
       "    <tr>\n",
       "      <th>25</th>\n",
       "      <td>Lukeli11</td>\n",
       "      <td>@StandardKenya Hii apana</td>\n",
       "      <td>0</td>\n",
       "      <td>0</td>\n",
       "      <td>hateful and offensive</td>\n",
       "    </tr>\n",
       "    <tr>\n",
       "      <th>26</th>\n",
       "      <td>vorudo44</td>\n",
       "      <td>@StandardKenya I salute you</td>\n",
       "      <td>0</td>\n",
       "      <td>0</td>\n",
       "      <td>not hateful</td>\n",
       "    </tr>\n",
       "    <tr>\n",
       "      <th>27</th>\n",
       "      <td>ongare_winnie</td>\n",
       "      <td>@StandardKenya Interesting.....🤗</td>\n",
       "      <td>0</td>\n",
       "      <td>0</td>\n",
       "      <td>not hateful</td>\n",
       "    </tr>\n",
       "    <tr>\n",
       "      <th>28</th>\n",
       "      <td>MrGachuiri_JG</td>\n",
       "      <td>@StandardKenya For some reason, I can't rememb...</td>\n",
       "      <td>0</td>\n",
       "      <td>0</td>\n",
       "      <td>not hateful</td>\n",
       "    </tr>\n",
       "    <tr>\n",
       "      <th>29</th>\n",
       "      <td>SimonN72711030</td>\n",
       "      <td>@StandardKenya I would rather vote for this bu...</td>\n",
       "      <td>0</td>\n",
       "      <td>0</td>\n",
       "      <td>hateful and offensive</td>\n",
       "    </tr>\n",
       "    <tr>\n",
       "      <th>30</th>\n",
       "      <td>LenordSang</td>\n",
       "      <td>@StandardKenya Now I am confused whether to st...</td>\n",
       "      <td>0</td>\n",
       "      <td>0</td>\n",
       "      <td>hateful and offensive</td>\n",
       "    </tr>\n",
       "    <tr>\n",
       "      <th>31</th>\n",
       "      <td>tyke3</td>\n",
       "      <td>@StandardKenya The prof has effectively raised...</td>\n",
       "      <td>1</td>\n",
       "      <td>0</td>\n",
       "      <td>not hateful</td>\n",
       "    </tr>\n",
       "    <tr>\n",
       "      <th>32</th>\n",
       "      <td>ngangaalex2</td>\n",
       "      <td>@StandardKenya We need serious alternatives an...</td>\n",
       "      <td>0</td>\n",
       "      <td>0</td>\n",
       "      <td>not hateful</td>\n",
       "    </tr>\n",
       "    <tr>\n",
       "      <th>33</th>\n",
       "      <td>MutumaMutuma5</td>\n",
       "      <td>@StandardKenya Hii ni noma sana</td>\n",
       "      <td>0</td>\n",
       "      <td>0</td>\n",
       "      <td>hateful and offensive</td>\n",
       "    </tr>\n",
       "    <tr>\n",
       "      <th>34</th>\n",
       "      <td>Quiplane_1</td>\n",
       "      <td>@StandardKenya Planting mine already, by the t...</td>\n",
       "      <td>0</td>\n",
       "      <td>0</td>\n",
       "      <td>not hateful</td>\n",
       "    </tr>\n",
       "    <tr>\n",
       "      <th>35</th>\n",
       "      <td>jeffgnbi</td>\n",
       "      <td>@StandardKenya I thought uhuru legalized bang…...</td>\n",
       "      <td>0</td>\n",
       "      <td>0</td>\n",
       "      <td>hateful and offensive</td>\n",
       "    </tr>\n",
       "    <tr>\n",
       "      <th>36</th>\n",
       "      <td>nkimanga</td>\n",
       "      <td>@StandardKenya All hail Wajackoyah the 5th</td>\n",
       "      <td>0</td>\n",
       "      <td>0</td>\n",
       "      <td>not hateful</td>\n",
       "    </tr>\n",
       "    <tr>\n",
       "      <th>37</th>\n",
       "      <td>johnmkeya</td>\n",
       "      <td>@StandardKenya Disasterous president</td>\n",
       "      <td>0</td>\n",
       "      <td>0</td>\n",
       "      <td>hateful and offensive</td>\n",
       "    </tr>\n",
       "    <tr>\n",
       "      <th>38</th>\n",
       "      <td>DeeKirwa</td>\n",
       "      <td>@StandardKenya Jamaa alegalise omusala bana😅</td>\n",
       "      <td>0</td>\n",
       "      <td>0</td>\n",
       "      <td>not hateful</td>\n",
       "    </tr>\n",
       "    <tr>\n",
       "      <th>39</th>\n",
       "      <td>PeggyJo99873394</td>\n",
       "      <td>@StandardKenya Kenya is blessed with brains.</td>\n",
       "      <td>0</td>\n",
       "      <td>0</td>\n",
       "      <td>not hateful</td>\n",
       "    </tr>\n",
       "    <tr>\n",
       "      <th>40</th>\n",
       "      <td>GeorgeOdiga</td>\n",
       "      <td>@StandardKenya My wish is get Prof's break down</td>\n",
       "      <td>0</td>\n",
       "      <td>0</td>\n",
       "      <td>not hateful</td>\n",
       "    </tr>\n",
       "    <tr>\n",
       "      <th>41</th>\n",
       "      <td>Joe86046738</td>\n",
       "      <td>@StandardKenya Wajackoya has my vote. Jah bless</td>\n",
       "      <td>0</td>\n",
       "      <td>0</td>\n",
       "      <td>not hateful</td>\n",
       "    </tr>\n",
       "    <tr>\n",
       "      <th>42</th>\n",
       "      <td>BarakaChacha16</td>\n",
       "      <td>@StandardKenya Good</td>\n",
       "      <td>0</td>\n",
       "      <td>0</td>\n",
       "      <td>not hateful</td>\n",
       "    </tr>\n",
       "    <tr>\n",
       "      <th>43</th>\n",
       "      <td>EricMugali</td>\n",
       "      <td>@StandardKenya Bangi mingi. Anavuta, kunywa na...</td>\n",
       "      <td>0</td>\n",
       "      <td>0</td>\n",
       "      <td>hateful and offensive</td>\n",
       "    </tr>\n",
       "    <tr>\n",
       "      <th>44</th>\n",
       "      <td>Gee_njogu</td>\n",
       "      <td>@StandardKenya The 5th</td>\n",
       "      <td>0</td>\n",
       "      <td>0</td>\n",
       "      <td>not hateful</td>\n",
       "    </tr>\n",
       "    <tr>\n",
       "      <th>45</th>\n",
       "      <td>jacobmuthami5</td>\n",
       "      <td>@StandardKenya Clearly the guy is high.</td>\n",
       "      <td>0</td>\n",
       "      <td>0</td>\n",
       "      <td>not hateful</td>\n",
       "    </tr>\n",
       "    <tr>\n",
       "      <th>46</th>\n",
       "      <td>SamuelKomesha</td>\n",
       "      <td>@StandardKenya Have been listening to his argu...</td>\n",
       "      <td>0</td>\n",
       "      <td>0</td>\n",
       "      <td>not hateful</td>\n",
       "    </tr>\n",
       "    <tr>\n",
       "      <th>47</th>\n",
       "      <td>ngau_muia</td>\n",
       "      <td>@StandardKenya That's maddness</td>\n",
       "      <td>0</td>\n",
       "      <td>0</td>\n",
       "      <td>not hateful</td>\n",
       "    </tr>\n",
       "    <tr>\n",
       "      <th>48</th>\n",
       "      <td>mukurubrian1</td>\n",
       "      <td>@StandardKenya Makofii https://t.co/StLJb9XxWI</td>\n",
       "      <td>0</td>\n",
       "      <td>0</td>\n",
       "      <td>not hateful</td>\n",
       "    </tr>\n",
       "    <tr>\n",
       "      <th>49</th>\n",
       "      <td>AfricisOrg</td>\n",
       "      <td>@StandardKenya Kenya doesn't need even One PM,...</td>\n",
       "      <td>0</td>\n",
       "      <td>0</td>\n",
       "      <td>not hateful</td>\n",
       "    </tr>\n",
       "  </tbody>\n",
       "</table>\n",
       "</div>"
      ],
      "text/plain": [
       "               User                                              Reply  Likes  \\\n",
       "0       atienooloo1                              @StandardKenya 🤣🤣🤣🤣🤣🤣      0   \n",
       "1    ngarijoseph802  @StandardKenya The 5th we have been loking for...      0   \n",
       "2     Governorjaymo  @StandardKenya Perfect the president we need t...      0   \n",
       "3         MNyabende  @StandardKenya Is presidential candidature thi...      0   \n",
       "4   yours_sincereIy  @StandardKenya Finally we got someone who's se...      0   \n",
       "5       KiumbeSammy  @StandardKenya Look  for another country not k...      0   \n",
       "6       binraccooon             @StandardKenya https://t.co/9AqYnLtCEs      0   \n",
       "7     arap_chesulut               @StandardKenya Bhangi ni mbaya......      0   \n",
       "8   GoodContentHere  @StandardKenya @sain4847 Following the lead of...      1   \n",
       "9    JosephKimanga3  @StandardKenya Bhang working in your head my f...      0   \n",
       "10  GeneralHassanN1             @StandardKenya Kura yangu ni yako Prof      0   \n",
       "11         kingoofw  @StandardKenya He probably needs to be taken t...      0   \n",
       "12     ChiuriJoseph                       @StandardKenya Bangi si dawa      0   \n",
       "13           Yekon6                @StandardKenya Clear all crb listed      0   \n",
       "14       ombuimecha                           @StandardKenya Hapo sawa      0   \n",
       "15         fluganje      @StandardKenya Why work days Mon to Thursday?      0   \n",
       "16        Makaobora  @StandardKenya @KennethMuriuk10 Do you want to...      0   \n",
       "17  NyaangaBoniface  @StandardKenya What is the need of going to sc...      0   \n",
       "18          fanmuga  @StandardKenya The head of Professors are full...      0   \n",
       "19          fanmuga  @StandardKenya Don't try all those in Kenya......      0   \n",
       "20      OnongKonong                           @StandardKenya The fifth      0   \n",
       "21        iamjosehk                             @StandardKenya The one      0   \n",
       "22          OAnyula                      @StandardKenya Sily mentality      0   \n",
       "23    okumu_phanuel  @StandardKenya And he is a Professor. Kusoma h...      0   \n",
       "24        ABUNGWENO      @StandardKenya Already hata bhang imemukumywa      0   \n",
       "25         Lukeli11                           @StandardKenya Hii apana      0   \n",
       "26         vorudo44                        @StandardKenya I salute you      0   \n",
       "27    ongare_winnie                   @StandardKenya Interesting.....🤗      0   \n",
       "28    MrGachuiri_JG  @StandardKenya For some reason, I can't rememb...      0   \n",
       "29   SimonN72711030  @StandardKenya I would rather vote for this bu...      0   \n",
       "30       LenordSang  @StandardKenya Now I am confused whether to st...      0   \n",
       "31            tyke3  @StandardKenya The prof has effectively raised...      1   \n",
       "32      ngangaalex2  @StandardKenya We need serious alternatives an...      0   \n",
       "33    MutumaMutuma5                    @StandardKenya Hii ni noma sana      0   \n",
       "34       Quiplane_1  @StandardKenya Planting mine already, by the t...      0   \n",
       "35         jeffgnbi  @StandardKenya I thought uhuru legalized bang…...      0   \n",
       "36         nkimanga         @StandardKenya All hail Wajackoyah the 5th      0   \n",
       "37        johnmkeya               @StandardKenya Disasterous president      0   \n",
       "38         DeeKirwa       @StandardKenya Jamaa alegalise omusala bana😅      0   \n",
       "39  PeggyJo99873394       @StandardKenya Kenya is blessed with brains.      0   \n",
       "40      GeorgeOdiga    @StandardKenya My wish is get Prof's break down      0   \n",
       "41      Joe86046738    @StandardKenya Wajackoya has my vote. Jah bless      0   \n",
       "42   BarakaChacha16                                @StandardKenya Good      0   \n",
       "43       EricMugali  @StandardKenya Bangi mingi. Anavuta, kunywa na...      0   \n",
       "44        Gee_njogu                             @StandardKenya The 5th      0   \n",
       "45    jacobmuthami5            @StandardKenya Clearly the guy is high.      0   \n",
       "46    SamuelKomesha  @StandardKenya Have been listening to his argu...      0   \n",
       "47        ngau_muia                     @StandardKenya That's maddness      0   \n",
       "48     mukurubrian1     @StandardKenya Makofii https://t.co/StLJb9XxWI      0   \n",
       "49       AfricisOrg  @StandardKenya Kenya doesn't need even One PM,...      0   \n",
       "\n",
       "    Retweets    Hatespeech Category  \n",
       "0          0            not hateful  \n",
       "1          0  hateful and offensive  \n",
       "2          0            not hateful  \n",
       "3          0  hateful and offensive  \n",
       "4          0            not hateful  \n",
       "5          0            not hateful  \n",
       "6          0            not hateful  \n",
       "7          0  hateful and offensive  \n",
       "8          0            not hateful  \n",
       "9          0            not hateful  \n",
       "10         0  hateful and offensive  \n",
       "11         0            not hateful  \n",
       "12         0  hateful and offensive  \n",
       "13         0            not hateful  \n",
       "14         0            not hateful  \n",
       "15         0            not hateful  \n",
       "16         0            not hateful  \n",
       "17         0            not hateful  \n",
       "18         0            not hateful  \n",
       "19         0  hateful and offensive  \n",
       "20         0            not hateful  \n",
       "21         0            not hateful  \n",
       "22         0  hateful and offensive  \n",
       "23         0            not hateful  \n",
       "24         0  hateful and offensive  \n",
       "25         0  hateful and offensive  \n",
       "26         0            not hateful  \n",
       "27         0            not hateful  \n",
       "28         0            not hateful  \n",
       "29         0  hateful and offensive  \n",
       "30         0  hateful and offensive  \n",
       "31         0            not hateful  \n",
       "32         0            not hateful  \n",
       "33         0  hateful and offensive  \n",
       "34         0            not hateful  \n",
       "35         0  hateful and offensive  \n",
       "36         0            not hateful  \n",
       "37         0  hateful and offensive  \n",
       "38         0            not hateful  \n",
       "39         0            not hateful  \n",
       "40         0            not hateful  \n",
       "41         0            not hateful  \n",
       "42         0            not hateful  \n",
       "43         0  hateful and offensive  \n",
       "44         0            not hateful  \n",
       "45         0            not hateful  \n",
       "46         0            not hateful  \n",
       "47         0            not hateful  \n",
       "48         0            not hateful  \n",
       "49         0            not hateful  "
      ]
     },
     "execution_count": 41,
     "metadata": {},
     "output_type": "execute_result"
    }
   ],
   "source": [
    "data['Hatespeech Category']=data['Reply'].apply(lambda x:detect_hatespeech(x))\n",
    "data[0:50]"
   ]
  },
  {
   "cell_type": "code",
   "execution_count": 43,
   "id": "c73d02a3-ebbb-4028-a619-17bf9a0cca77",
   "metadata": {},
   "outputs": [
    {
     "data": {
      "text/html": [
       "<div>\n",
       "<style scoped>\n",
       "    .dataframe tbody tr th:only-of-type {\n",
       "        vertical-align: middle;\n",
       "    }\n",
       "\n",
       "    .dataframe tbody tr th {\n",
       "        vertical-align: top;\n",
       "    }\n",
       "\n",
       "    .dataframe thead th {\n",
       "        text-align: right;\n",
       "    }\n",
       "</style>\n",
       "<table border=\"1\" class=\"dataframe\">\n",
       "  <thead>\n",
       "    <tr style=\"text-align: right;\">\n",
       "      <th></th>\n",
       "      <th>User</th>\n",
       "      <th>Reply</th>\n",
       "      <th>Likes</th>\n",
       "      <th>Retweets</th>\n",
       "      <th>Hatespeech Category</th>\n",
       "    </tr>\n",
       "  </thead>\n",
       "  <tbody>\n",
       "    <tr>\n",
       "      <th>34</th>\n",
       "      <td>Quiplane_1</td>\n",
       "      <td>@StandardKenya Planting mine already, by the t...</td>\n",
       "      <td>0</td>\n",
       "      <td>0</td>\n",
       "      <td>not hateful</td>\n",
       "    </tr>\n",
       "  </tbody>\n",
       "</table>\n",
       "</div>"
      ],
      "text/plain": [
       "          User                                              Reply  Likes  \\\n",
       "34  Quiplane_1  @StandardKenya Planting mine already, by the t...      0   \n",
       "\n",
       "    Retweets Hatespeech Category  \n",
       "34         0         not hateful  "
      ]
     },
     "execution_count": 43,
     "metadata": {},
     "output_type": "execute_result"
    }
   ],
   "source": [
    "data[34:35]"
   ]
  },
  {
   "cell_type": "code",
   "execution_count": null,
   "id": "af4c6bef-a02b-4f5c-89bf-97bd6ecc5309",
   "metadata": {},
   "outputs": [],
   "source": []
  },
  {
   "cell_type": "code",
   "execution_count": null,
   "id": "637097bb-57fc-418e-b0d2-c0f1e0567458",
   "metadata": {},
   "outputs": [],
   "source": []
  }
 ],
 "metadata": {
  "kernelspec": {
   "display_name": "Python 3",
   "language": "python",
   "name": "python3"
  },
  "language_info": {
   "codemirror_mode": {
    "name": "ipython",
    "version": 3
   },
   "file_extension": ".py",
   "mimetype": "text/x-python",
   "name": "python",
   "nbconvert_exporter": "python",
   "pygments_lexer": "ipython3",
   "version": "3.8.8"
  }
 },
 "nbformat": 4,
 "nbformat_minor": 5
}
